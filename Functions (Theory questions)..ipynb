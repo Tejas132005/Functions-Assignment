{
 "cells": [
  {
   "cell_type": "code",
   "execution_count": null,
   "id": "a0c8a0f9-d3d6-4ec4-a670-b1c0c769d57e",
   "metadata": {},
   "outputs": [],
   "source": [
    "#  1. What is the difference between a function and a method in Python?\n",
    "# Ans:- \n",
    "# Function:\n",
    "#  A function is a piece of code that is called by name. It can be passed data to operate on (i.e., the parameters) and \n",
    "#    can optionally return data (the return value). All data that is passed to a function is explicitly passed.\n",
    "# Method:\n",
    "#  A method is a piece of code that is called by name that is associated with an object.\n",
    "#   It is implicitly passed for the object for which it was called.\n",
    "#   It is able to operate on data that is contained within the class."
   ]
  },
  {
   "cell_type": "code",
   "execution_count": null,
   "id": "4df3339c-94d7-4a1c-bd79-ae7394b565c5",
   "metadata": {},
   "outputs": [],
   "source": [
    "#  2. Explain the concept of function arguments and parameters in Python\n",
    "# Ans:-\n",
    "# Arguments:\n",
    "#  Arguments are specified after the function name, inside the parentheses. You can add as many arguments as you want, \n",
    "#    just separate them with a comma.\n",
    "# Parameters:\n",
    "#  A parameter is the variable listed inside the parentheses in the function definition.\n",
    "#  You can send any data types of argument to a function (string, number, list, dictionary etc.), and it will be \n",
    "#    treated as the same data type inside the function."
   ]
  },
  {
   "cell_type": "code",
   "execution_count": 10,
   "id": "27cdcf3c-3b0c-49e4-b5e6-1d98edd135bf",
   "metadata": {},
   "outputs": [
    {
     "name": "stdout",
     "output_type": "stream",
     "text": [
      "7\n",
      "7\n",
      "Hello\n",
      "First == I\n",
      "mid == Love\n",
      "last == You\n",
      "None\n",
      "7\n",
      "3\n"
     ]
    }
   ],
   "source": [
    "#  3. What are the different ways to define and call a function in Python?\n",
    "# Ans:\n",
    "\n",
    "# 1. (Functions without parameters) Returns the information only within the funtion.\n",
    "def fun():\n",
    "    return 3+4\n",
    "fun() # Output >> 7\n",
    "\n",
    "# 2. (Positional arguments) Return the answer as ordered but takes the command with postion. Only specified number of arguments will be taken \n",
    "#     else will be an error.\n",
    "def fun(n1,n2):\n",
    "    return n1+n2\n",
    "print(fun(3,4)) # output>> 7\n",
    "\n",
    "# 3. (Named arguments) Returns the answer matching the command with postional arguments. No worries about the argument position\n",
    "def fun(n1,n2): \n",
    "    return n1+n2\n",
    "print(fun(n2=3,n1=4)) # Output >> 7\n",
    "\n",
    "# 4. (Arbitary arguments) Arguments length can be varied. No fixed positional length for argument/s\n",
    "def fun(*n1):\n",
    "    for n in n1:\n",
    "        return n\n",
    "print(fun('Hello', 'Whats', 'Up'))\n",
    "\n",
    "def myFun(**kwargs):\n",
    "    for key, value in kwargs.items():\n",
    "        print(\"%s == %s\" % (key, value))\n",
    "print(myFun(First = 'I', mid = 'Love', last = 'You'))\n",
    "\n",
    "# 5. (Default arguments) The lasts positional argument/s are fixed and can be changed furtehr if required\n",
    "def fun(x,y=6):\n",
    "    return x+y\n",
    "print(fun(1))\n",
    "print(fun(1,2))"
   ]
  },
  {
   "cell_type": "code",
   "execution_count": null,
   "id": "d8d90035-fc34-4aee-82ec-ac5a03f716b1",
   "metadata": {},
   "outputs": [],
   "source": [
    "#  4. What is the purpose of the `return` statement in a Python function?\n",
    "# Ans:\n",
    "# The return statement in a function serves the purpose of specifying the value that the function should produce as its \n",
    "#   result."
   ]
  },
  {
   "cell_type": "code",
   "execution_count": null,
   "id": "d5480e4e-ce60-4364-9cbd-438788cd48db",
   "metadata": {},
   "outputs": [],
   "source": [
    "# 5. What are iterators in Python and how do they differ from iterables?\n",
    "# Ans:\n",
    "#  An iterator is an object representing a stream of data, return the data one by one.\n",
    "#   And where Iterables aer any object of python tha are capable of returning its members one at a time,\n",
    "#    permiting it to be iterated in a for loop"
   ]
  },
  {
   "cell_type": "code",
   "execution_count": 19,
   "id": "7ffbe104-bac1-4d43-8382-7282da3470dd",
   "metadata": {},
   "outputs": [
    {
     "name": "stdout",
     "output_type": "stream",
     "text": [
      "1\n",
      "1\n",
      "2\n",
      "3\n",
      "5\n",
      "8\n"
     ]
    }
   ],
   "source": [
    "# 6.  Explain the concept of generators in Python and how they are defined.\n",
    "# Ans: \n",
    "#  A generator function in Python is defined like a normal function, but whenever it needs to generate a value, it \n",
    "#    does so with the yield keyword rather than return. If the body of a def contains yield, the function automatically \n",
    "#    becomes a Python generator function. \n",
    "def fib(n):\n",
    "    a = 0\n",
    "    b= 1\n",
    "    while b<n:\n",
    "        yield b\n",
    "        a,b = b,a+b\n",
    "x = fib(10)    \n",
    "for i in x:\n",
    "    print(i)"
   ]
  },
  {
   "cell_type": "code",
   "execution_count": null,
   "id": "a89c996a-b7f3-45c5-ade3-570d66ed6656",
   "metadata": {},
   "outputs": [],
   "source": [
    "# 7. What are the advantages of using generators over regular functions?\n",
    "# Ans: \n",
    "# Advantages:\n",
    "#    1. They consumes less memory than regular functions.\n",
    "#    2. They are easy to read.\n",
    "#    3. They are fast even compared to loops, used for large data sets."
   ]
  },
  {
   "cell_type": "code",
   "execution_count": null,
   "id": "995c57a6-a1f2-4d09-8461-2f6eea180924",
   "metadata": {},
   "outputs": [],
   "source": [
    "#  8. What is a lambda function in Python and when is it typically used?\n",
    "# Ans:\n",
    "# Lambda function is a small function that's often used for simple tasks that can be written in a single line.\\\n",
    "# Uses: used for short and simple functions and for short period of time."
   ]
  },
  {
   "cell_type": "code",
   "execution_count": null,
   "id": "451ef828-162e-45c7-ae1f-11b33c403664",
   "metadata": {},
   "outputs": [],
   "source": [
    "# 9. Explain the purpose and usage of the `map()` function in Python\n",
    "# Ans:\n",
    "# Map() creates a new array from calling a function for every array element. Map() does not execute the function for \n",
    "#   empty elements.\n",
    "# It is used when you want to apply a single transformation function to all the iterable elements"
   ]
  },
  {
   "cell_type": "code",
   "execution_count": null,
   "id": "d60113ca-8a65-484b-b418-e6689be8e45d",
   "metadata": {},
   "outputs": [],
   "source": [
    "# 10. What is the difference between `map()`, `reduce()`, and `filter()` functions in Python?\n",
    "# Ans:\n",
    "# 'Map' applies a given function to each item of an iterable (list or set) and returns a list of the results.\n",
    "# 'Filter' constructs a list from elements of an iterable for which a function returns true. \n",
    "# 'Reduce' applies a rolling computation to sequential pairs of values in a list and returns a single result."
   ]
  },
  {
   "cell_type": "code",
   "execution_count": null,
   "id": "d3135e41-c0f5-4b5a-b4fa-0e6ed082ea76",
   "metadata": {},
   "outputs": [],
   "source": [
    "# 11. Using pen & Paper write the internal mechanism for sum operation using reduce function on this given\n",
    "#     list:[47,11,42,13]; "
   ]
  }
 ],
 "metadata": {
  "kernelspec": {
   "display_name": "Python 3 (ipykernel)",
   "language": "python",
   "name": "python3"
  },
  "language_info": {
   "codemirror_mode": {
    "name": "ipython",
    "version": 3
   },
   "file_extension": ".py",
   "mimetype": "text/x-python",
   "name": "python",
   "nbconvert_exporter": "python",
   "pygments_lexer": "ipython3",
   "version": "3.10.8"
  }
 },
 "nbformat": 4,
 "nbformat_minor": 5
}
