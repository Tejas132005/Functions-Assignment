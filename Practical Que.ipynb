{
 "cells": [
  {
   "cell_type": "code",
   "execution_count": 66,
   "id": "68def50c-6b08-4d95-b132-77d4f86d453e",
   "metadata": {},
   "outputs": [
    {
     "name": "stdout",
     "output_type": "stream",
     "text": [
      "30\n",
      "None\n"
     ]
    }
   ],
   "source": [
    "# 1. Write a Python function that takes a list of numbers as input and returns the sum of all even numbers in the list.\n",
    "# Ans:\n",
    "def sum_even(l:list):\n",
    "    lis = [ ]\n",
    "    for i in l:\n",
    "        if i%2==0:\n",
    "            lis.append(i)\n",
    "    from functools import reduce\n",
    "    print(reduce(lambda x,y:x+y, lis))\n",
    "    \n",
    "print(sum_even([1,2,3,4,5,6,7,8,9,10]))"
   ]
  },
  {
   "cell_type": "code",
   "execution_count": 9,
   "id": "fd652ae3-3e12-45df-a83f-84b1c4f8a496",
   "metadata": {},
   "outputs": [
    {
     "name": "stdout",
     "output_type": "stream",
     "text": [
      "olleh\n"
     ]
    }
   ],
   "source": [
    "# 2. Create a Python function that accepts a string and returns the reverse of that string.\n",
    "# Ans:\n",
    "def reverse(s:str):\n",
    "    return s[::-1]\n",
    "print(reverse(\"hello\"))"
   ]
  },
  {
   "cell_type": "code",
   "execution_count": 31,
   "id": "b77502cc-48d1-448f-8520-beb577502751",
   "metadata": {},
   "outputs": [
    {
     "name": "stdout",
     "output_type": "stream",
     "text": [
      "1\n",
      "4\n",
      "9\n",
      "16\n",
      "25\n",
      "None\n"
     ]
    }
   ],
   "source": [
    "# 3. Implement a Python function that takes a list of integers and returns a new list containing the squares of\n",
    "#      each number.\n",
    "# Ans:\n",
    "def square(l:list):\n",
    "    for i in l:\n",
    "        print(i**2)\n",
    "print(square([1,2,3,4,5]))"
   ]
  },
  {
   "cell_type": "code",
   "execution_count": 38,
   "id": "69c1ab6d-5f50-4247-9676-e771cd637e86",
   "metadata": {},
   "outputs": [
    {
     "name": "stdin",
     "output_type": "stream",
     "text": [
      "Enter a number:  12\n"
     ]
    },
    {
     "name": "stdout",
     "output_type": "stream",
     "text": [
      "12 is not a prime number.\n"
     ]
    }
   ],
   "source": [
    "# 4. Write a Python function that checks if a given number is prime or not from 1 to 200.\n",
    "# Ans:\n",
    "def is_prime(num):\n",
    "    if num <= 1:\n",
    "        return False\n",
    "    for i in range(2, int(num**0.5) + 1):\n",
    "        if num % i == 0:\n",
    "            return False\n",
    "    return True\n",
    "\n",
    "number = int(input(\"Enter a number: \"))\n",
    "if is_prime(number):\n",
    "    print(f\"{number} is a prime number.\")\n",
    "else:\n",
    "    print(f\"{number} is not a prime number.\")"
   ]
  },
  {
   "cell_type": "code",
   "execution_count": 45,
   "id": "7deb44f9-1bc0-4c01-92c7-de8e7d8db02f",
   "metadata": {},
   "outputs": [
    {
     "name": "stdout",
     "output_type": "stream",
     "text": [
      "1\n",
      "1\n",
      "2\n",
      "3\n",
      "5\n",
      "8\n",
      "13\n",
      "21\n",
      "34\n",
      "55\n",
      "None\n"
     ]
    }
   ],
   "source": [
    "# 5. Create an iterator class in Python that generates the Fibonacci sequence up to a specified number of terms.\n",
    "# Ans:\n",
    "def fib(n):\n",
    "    a,b = 0,1\n",
    "    for i in range(n):\n",
    "        a,b = b , a+b\n",
    "        print(a)\n",
    "print(fib(10))\n"
   ]
  },
  {
   "cell_type": "code",
   "execution_count": 5,
   "id": "49e3f2c6-a89d-4b64-bf0e-e3f445eae4a0",
   "metadata": {},
   "outputs": [
    {
     "name": "stdin",
     "output_type": "stream",
     "text": [
      "Input the exponent:  4\n"
     ]
    },
    {
     "name": "stdout",
     "output_type": "stream",
     "text": [
      "1\n",
      "2\n",
      "4\n",
      "8\n",
      "16\n"
     ]
    }
   ],
   "source": [
    "# 6. Write a generator function in Python that yields the powers of 2 up to a given exponent.\n",
    "# Ans:\n",
    "def power(exp):\n",
    "    result = 1\n",
    "    for i in range(exp + 1):\n",
    "        yield result\n",
    "        result *= 2  \n",
    "exp = int(input(\"Input the exponent: \"))\n",
    "pow = power(exp)\n",
    "for j in pow:\n",
    "    print(j)"
   ]
  },
  {
   "cell_type": "code",
   "execution_count": 67,
   "id": "b01e1243-b6ca-4a8c-98e5-2cdd091aac33",
   "metadata": {},
   "outputs": [
    {
     "name": "stdout",
     "output_type": "stream",
     "text": [
      "Line1: Hello\n",
      "Line2: How are\n",
      "Line3: You\n"
     ]
    }
   ],
   "source": [
    "# 7. Implement a generator function that reads a file line by line and yields each line as a string.\n",
    "# Ans:\n",
    "L = [\"Hello\\n\", \"How are\\n\", \"You\\n\"]\n",
    "\n",
    "# writing to file\n",
    "file1 = open('myfile.txt', 'w')\n",
    "file1.writelines(L)\n",
    "file1.close()\n",
    "\n",
    "# Using readlines()\n",
    "file1 = open('myfile.txt', 'r')\n",
    "Lines = file1.readlines()\n",
    "\n",
    "count = 0\n",
    "# Strips the newline character\n",
    "for line in Lines:\n",
    "    count += 1\n",
    "    print(\"Line{}: {}\".format(count, line.strip()))"
   ]
  },
  {
   "cell_type": "code",
   "execution_count": 2,
   "id": "fe2e2f8c-1900-4703-9b66-d333cbfcd3ba",
   "metadata": {},
   "outputs": [
    {
     "name": "stdout",
     "output_type": "stream",
     "text": [
      "[('Maths', 95), ('ML', 99), ('AI', 100), ('DS', 100)]\n"
     ]
    }
   ],
   "source": [
    "# 8. Use a lambda function in Python to sort a list of tuples based on the second element of each tuple.\n",
    "# Ans: \n",
    "sub_marks = [(\"Maths\", 95), (\"AI\" , 100), (\"ML\",99), (\"DS\", 100)]\n",
    "sub_marks.sort(key = lambda x:x[1])\n",
    "print(sub_marks)"
   ]
  },
  {
   "cell_type": "code",
   "execution_count": 8,
   "id": "d0fb1aa6-b249-4a5d-a0a7-d989dca026b9",
   "metadata": {},
   "outputs": [
    {
     "name": "stdout",
     "output_type": "stream",
     "text": [
      "[33.8, 35.6, 37.4, 39.2]\n",
      "None\n"
     ]
    }
   ],
   "source": [
    "# 9. Write a Python program that uses `map()` to convert a list of temperatures from Celsius to Fahrenheit\n",
    "# Ans: \n",
    "def convert(c:list):\n",
    "    print(list(map(lambda x:x*(9/5)+32 , c)))\n",
    "print(convert([1,2,3,4]))"
   ]
  },
  {
   "cell_type": "code",
   "execution_count": 29,
   "id": "26e6ac6b-e492-45b1-ae3a-94e1e75a13b1",
   "metadata": {},
   "outputs": [
    {
     "name": "stdout",
     "output_type": "stream",
     "text": [
      "['H', 'l', 'l']\n",
      "None\n"
     ]
    }
   ],
   "source": [
    "# 10. Create a Python program that uses `filter()` to remove all the vowels from a given string\n",
    "# Ans:\n",
    "def remove(st:str):\n",
    "    l = list(st)\n",
    "    vow = [\"a\",\"e\",\"i\",\"o\",\"u\",\"A\",\"E\",\"I\",\"O\",\"U\"]\n",
    "    print(list(filter(lambda x: x not in vow, l)))\n",
    "print(remove(\"Hello\"))   "
   ]
  },
  {
   "cell_type": "code",
   "execution_count": 62,
   "id": "5ac75a8a-4bfb-4dea-8644-65af1979062a",
   "metadata": {},
   "outputs": [
    {
     "name": "stdout",
     "output_type": "stream",
     "text": [
      "[(34587,), (163.8,)]\n",
      "None\n",
      "[(98762,), (284.0,)]\n",
      "None\n",
      "[(77226,), (108.85000000000001,)]\n",
      "None\n",
      "[(88112,), (84.97,)]\n",
      "None\n"
     ]
    }
   ],
   "source": [
    "# 11) Imagine an accounting routine used in a book shop. It works on a list with sublists, which look like this:\n",
    "#   Order No:    Book Title and Author:                  Quantity:       Price Per Item:\n",
    "#   34587        Learnig python , mark Lutz                  4              40.95\n",
    "#   98762        Programming python, Mark Lutz               5              56.8\n",
    "#   77226        Head first python, Paul Barry               3              32.95\n",
    "#   88112        Einfuhrung in python3, Bearnd Clean         3              24.99\n",
    "#       Write a Python program, which returns a list with 2-tuples. Each tuple consists of the order number and the\n",
    "#         product of the price per item and the quantity. The product should be increased by 10,- € if the value of the\n",
    "#         order is smaller than 100.00 €.\n",
    "#   Write a Python program using lambda and map.\n",
    "\n",
    "# Ans:\n",
    "def Shop(orderNo:list, Quantity: list, PPI:list):\n",
    "    abc = list(map(lambda x,y:x*y , Quantity, PPI))\n",
    "    if abc[0] < 100:\n",
    "        abc[0] = abc[0]+10\n",
    "    else:\n",
    "        abc[0]\n",
    "    abc = tuple(abc)\n",
    "    ab = (tuple(orderNo), abc)\n",
    "    print(list(ab))\n",
    "print(Shop([34587], [4], [40.95]))\n",
    "print(Shop([98762], [5], [56.8]))\n",
    "print(Shop([77226], [3], [32.95]))\n",
    "print(Shop([88112], [3], [24.99]))"
   ]
  },
  {
   "cell_type": "code",
   "execution_count": null,
   "id": "2e9b948b-ece6-41f2-b5af-eff6c384addb",
   "metadata": {},
   "outputs": [],
   "source": []
  }
 ],
 "metadata": {
  "kernelspec": {
   "display_name": "Python 3 (ipykernel)",
   "language": "python",
   "name": "python3"
  },
  "language_info": {
   "codemirror_mode": {
    "name": "ipython",
    "version": 3
   },
   "file_extension": ".py",
   "mimetype": "text/x-python",
   "name": "python",
   "nbconvert_exporter": "python",
   "pygments_lexer": "ipython3",
   "version": "3.10.8"
  }
 },
 "nbformat": 4,
 "nbformat_minor": 5
}
